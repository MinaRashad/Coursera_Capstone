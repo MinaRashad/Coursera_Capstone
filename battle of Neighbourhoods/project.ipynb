{
 "metadata": {
  "language_info": {
   "codemirror_mode": {
    "name": "ipython",
    "version": 3
   },
   "file_extension": ".py",
   "mimetype": "text/x-python",
   "name": "python",
   "nbconvert_exporter": "python",
   "pygments_lexer": "ipython3",
   "version": "3.7.5-final"
  },
  "orig_nbformat": 2,
  "kernelspec": {
   "name": "python37564bitb957639135fe4837b9b80634a01f304f",
   "display_name": "Python 3.7.5 64-bit"
  }
 },
 "nbformat": 4,
 "nbformat_minor": 2,
 "cells": [
  {
   "cell_type": "markdown",
   "metadata": {},
   "source": [
    "# Battle of Neighbourhoods\n",
    "\n",
    "### Concept\n",
    "\n",
    "Every 90 seconds a 2 children go missing somewhere in the US. and GPS devices need human interaction. If guardian is not notified \n",
    "\n",
    "### The Problem:\n",
    "\n",
    "given the coordinates of a child , predict whether he/she is lost/kidnapped or safe.\n",
    "\n",
    "This idea is basically,assume there is an alone child, the child has a GPS device that sends it coordinates to a server regularly. The idea is to create a script run on the server that is able to analyse the coordinates and determine whether he is lost (or  kidnapped) or in a safe area. I will use Foursquare API to see the available venues in 1km radius. If there is None or the available venues are not child related (e.g. bars, ..etc). the script should assume the kid is kidnapped or lost\n",
    "\n",
    "### Target Audience\n",
    "\n",
    "12-year-old children guardians\n",
    "\n",
    "Alzhiemer's guardians\n",
    "\n",
    "### Businesses that might be interested\n",
    "\n",
    "Businesses that focus on children safety products\n",
    "\n",
    "\n"
   ]
  },
  {
   "cell_type": "markdown",
   "metadata": {},
   "source": [
    "## Data\n",
    "\n",
    "#### Foursquare API\n",
    "\n",
    "Input: coordinates , Output: Venues in 1 km\n",
    "\n",
    "#### A generated sqlite3 database of coordinates\n",
    "\n",
    "A database of coordinates and time, to test the script, most of them are coordinates in the middle of the desert, the ocean, the sea. only one of them is actually a place  where a child can be\n",
    "\n",
    "#### A JSON file i written with categories of Venues that are unlikely to be visited by a lonely child \n"
   ]
  },
  {
   "cell_type": "code",
   "execution_count": 1,
   "metadata": {},
   "outputs": [],
   "source": [
    "import numpy as np\n",
    "import pandas as pd\n",
    "import sqlite3\n",
    "import requests\n",
    "import json\n",
    "import random\n",
    "import matplotlib.pyplot as plt\n",
    "import folium # map rendering library\n",
    "from datetime import date"
   ]
  },
  {
   "cell_type": "markdown",
   "metadata": {},
   "source": [
    "Now we read the sqlite3 database"
   ]
  },
  {
   "cell_type": "code",
   "execution_count": 2,
   "metadata": {
    "tags": []
   },
   "outputs": [
    {
     "output_type": "stream",
     "name": "stdout",
     "text": "Database created and Successfully Connected to SQLite\n"
    }
   ],
   "source": [
    "con = sqlite3.connect(\"points.db\")\n",
    "cursor = con.cursor()\n",
    "\n",
    "print(\"Database created and Successfully Connected to SQLite\")"
   ]
  },
  {
   "cell_type": "code",
   "execution_count": 3,
   "metadata": {},
   "outputs": [
    {
     "output_type": "execute_result",
     "data": {
      "text/plain": "<sqlite3.Cursor at 0x7ff431d0c340>"
     },
     "metadata": {},
     "execution_count": 3
    }
   ],
   "source": [
    "cursor.execute(\"SELECT * FROM log\")"
   ]
  },
  {
   "cell_type": "code",
   "execution_count": 4,
   "metadata": {},
   "outputs": [],
   "source": [
    "coordsDB = cursor.fetchall()"
   ]
  },
  {
   "cell_type": "code",
   "execution_count": 5,
   "metadata": {
    "tags": []
   },
   "outputs": [
    {
     "output_type": "stream",
     "name": "stdout",
     "text": "Closed SQLite3 connection\n"
    }
   ],
   "source": [
    "cursor.close()\n",
    "con.close()\n",
    "\n",
    "print(\"Closed SQLite3 connection\")"
   ]
  },
  {
   "cell_type": "code",
   "execution_count": 6,
   "metadata": {},
   "outputs": [],
   "source": [
    "coords = pd.DataFrame(coordsDB,columns=[\"Longitude\",\"Latitude\",\"Date\",\"Latency\"])"
   ]
  },
  {
   "cell_type": "code",
   "execution_count": 7,
   "metadata": {},
   "outputs": [
    {
     "output_type": "execute_result",
     "data": {
      "text/plain": "   Longitude  Latitude                      Date\n0        0.0       0.0  2020-07-27T17:19:40.551Z\n1        1.0       1.0  2020-07-27T17:19:42.572Z\n2        2.0       2.0  2020-07-27T17:19:44.584Z\n3        3.0       3.0  2020-07-27T17:19:46.595Z\n4        4.0       4.0  2020-07-27T17:19:48.604Z",
      "text/html": "<div>\n<style scoped>\n    .dataframe tbody tr th:only-of-type {\n        vertical-align: middle;\n    }\n\n    .dataframe tbody tr th {\n        vertical-align: top;\n    }\n\n    .dataframe thead th {\n        text-align: right;\n    }\n</style>\n<table border=\"1\" class=\"dataframe\">\n  <thead>\n    <tr style=\"text-align: right;\">\n      <th></th>\n      <th>Longitude</th>\n      <th>Latitude</th>\n      <th>Date</th>\n    </tr>\n  </thead>\n  <tbody>\n    <tr>\n      <th>0</th>\n      <td>0.0</td>\n      <td>0.0</td>\n      <td>2020-07-27T17:19:40.551Z</td>\n    </tr>\n    <tr>\n      <th>1</th>\n      <td>1.0</td>\n      <td>1.0</td>\n      <td>2020-07-27T17:19:42.572Z</td>\n    </tr>\n    <tr>\n      <th>2</th>\n      <td>2.0</td>\n      <td>2.0</td>\n      <td>2020-07-27T17:19:44.584Z</td>\n    </tr>\n    <tr>\n      <th>3</th>\n      <td>3.0</td>\n      <td>3.0</td>\n      <td>2020-07-27T17:19:46.595Z</td>\n    </tr>\n    <tr>\n      <th>4</th>\n      <td>4.0</td>\n      <td>4.0</td>\n      <td>2020-07-27T17:19:48.604Z</td>\n    </tr>\n  </tbody>\n</table>\n</div>"
     },
     "metadata": {},
     "execution_count": 7
    }
   ],
   "source": [
    "coords.reset_index()\n",
    "coords = coords.drop(labels=[\"Latency\"],axis=1)\n",
    "coords.head()"
   ]
  },
  {
   "cell_type": "code",
   "execution_count": 8,
   "metadata": {},
   "outputs": [],
   "source": [
    "client_id=\"4YCXG4R5QPPQP2AMT2PVQYKEBKXJTCR2CCAGPD5SBGW4ZHPF\"\n",
    "client_secret=\"URRAO4CB4GCLB1YDICP5AXKW1Z4FO1BMLY5PCKMGG4CE2L24\"\n",
    "version = str(date.today()).replace(\"-\",\"\")"
   ]
  },
  {
   "cell_type": "code",
   "execution_count": 9,
   "metadata": {},
   "outputs": [],
   "source": [
    "with open(\"categories.json\") as f:\n",
    "    nonChild = json.load(f)['nonChild']"
   ]
  },
  {
   "cell_type": "code",
   "execution_count": 10,
   "metadata": {},
   "outputs": [],
   "source": [
    "def getVenues(Longitudes,Latitudes):\n",
    "    RADIUS = 1000 # Getting in 1km radius\n",
    "    SafeVenues = []\n",
    "    for (lat,lng) in zip(Longitudes,Latitudes):\n",
    "        url =  f'https://api.foursquare.com/v2/venues/explore?&client_id={client_id}&client_secret={client_secret}&v={version}&ll={lat},{lng}&radius={RADIUS}'\n",
    "        res = requests.get(url).json()[\"response\"]\n",
    "        availVenues = []\n",
    "        try:\n",
    "            for v in res['groups'][0]['items']:\n",
    "                for cat in v['venue']['categories']:\n",
    "                    if cat not in nonChild:\n",
    "                        availVenues.append(cat)\n",
    "        \n",
    "            SafeVenues.append(len(availVenues))\n",
    "        except KeyError:\n",
    "            SafeVenues.append(0)\n",
    "    return SafeVenues\n"
   ]
  },
  {
   "cell_type": "markdown",
   "metadata": {},
   "source": [
    "Now we will add a new column with the number of safe venues in each location"
   ]
  },
  {
   "cell_type": "code",
   "execution_count": 11,
   "metadata": {},
   "outputs": [
    {
     "output_type": "execute_result",
     "data": {
      "text/plain": "   Longitude  Latitude                      Date  SafeVenues\n0        0.0       0.0  2020-07-27T17:19:40.551Z           0\n1        1.0       1.0  2020-07-27T17:19:42.572Z           2\n2        2.0       2.0  2020-07-27T17:19:44.584Z           0\n3        3.0       3.0  2020-07-27T17:19:46.595Z           0\n4        4.0       4.0  2020-07-27T17:19:48.604Z           0",
      "text/html": "<div>\n<style scoped>\n    .dataframe tbody tr th:only-of-type {\n        vertical-align: middle;\n    }\n\n    .dataframe tbody tr th {\n        vertical-align: top;\n    }\n\n    .dataframe thead th {\n        text-align: right;\n    }\n</style>\n<table border=\"1\" class=\"dataframe\">\n  <thead>\n    <tr style=\"text-align: right;\">\n      <th></th>\n      <th>Longitude</th>\n      <th>Latitude</th>\n      <th>Date</th>\n      <th>SafeVenues</th>\n    </tr>\n  </thead>\n  <tbody>\n    <tr>\n      <th>0</th>\n      <td>0.0</td>\n      <td>0.0</td>\n      <td>2020-07-27T17:19:40.551Z</td>\n      <td>0</td>\n    </tr>\n    <tr>\n      <th>1</th>\n      <td>1.0</td>\n      <td>1.0</td>\n      <td>2020-07-27T17:19:42.572Z</td>\n      <td>2</td>\n    </tr>\n    <tr>\n      <th>2</th>\n      <td>2.0</td>\n      <td>2.0</td>\n      <td>2020-07-27T17:19:44.584Z</td>\n      <td>0</td>\n    </tr>\n    <tr>\n      <th>3</th>\n      <td>3.0</td>\n      <td>3.0</td>\n      <td>2020-07-27T17:19:46.595Z</td>\n      <td>0</td>\n    </tr>\n    <tr>\n      <th>4</th>\n      <td>4.0</td>\n      <td>4.0</td>\n      <td>2020-07-27T17:19:48.604Z</td>\n      <td>0</td>\n    </tr>\n  </tbody>\n</table>\n</div>"
     },
     "metadata": {},
     "execution_count": 11
    }
   ],
   "source": [
    "coords['SafeVenues'] = getVenues(coords['Longitude'],coords['Latitude'])\n",
    "coords.head()"
   ]
  },
  {
   "cell_type": "markdown",
   "metadata": {},
   "source": [
    "Now we have each coordinate with the Safe Venues available"
   ]
  },
  {
   "cell_type": "code",
   "execution_count": 12,
   "metadata": {},
   "outputs": [
    {
     "output_type": "execute_result",
     "data": {
      "text/plain": "    Longitude   Latitude                      Date  SafeVenues\n0     0.00000    0.00000  2020-07-27T17:19:40.551Z           0\n1     1.00000    1.00000  2020-07-27T17:19:42.572Z           2\n2     2.00000    2.00000  2020-07-27T17:19:44.584Z           0\n3     3.00000    3.00000  2020-07-27T17:19:46.595Z           0\n4     4.00000    4.00000  2020-07-27T17:19:48.604Z           0\n5     5.00000    5.00000  2020-07-27T17:19:50.615Z           0\n6     6.00000    6.00000  2020-07-27T17:19:52.626Z           0\n7     7.00000    7.00000  2020-07-27T17:19:54.637Z           0\n8     8.00000    8.00000  2020-07-27T17:19:56.647Z           0\n9     9.00000    9.00000  2020-07-27T17:19:58.659Z           0\n10   10.00000   10.00000  2020-07-27T17:20:00.669Z           0\n11   11.00000   11.00000  2020-07-27T17:20:02.679Z           0\n12   12.00000   12.00000  2020-07-27T17:20:04.690Z           0\n13   13.00000   13.00000  2020-07-27T17:20:06.700Z           0\n14   14.00000   14.00000  2020-07-27T17:20:08.711Z           0\n15   15.00000   15.00000  2020-07-27T17:20:10.720Z           0\n16   16.00000   16.00000  2020-07-27T17:20:12.730Z           0\n17   17.00000   17.00000  2020-07-27T17:20:14.740Z           0\n18   18.00000   18.00000  2020-07-27T17:20:16.748Z           0\n19   19.00000   19.00000  2020-07-27T17:20:18.758Z           0\n20   20.00000   20.00000  2020-07-27T17:20:20.768Z           0\n21   21.00000   21.00000  2020-07-27T17:20:22.779Z           0\n22   22.00000   22.00000  2020-07-27T17:20:24.787Z           0\n23   23.00000   23.00000  2020-07-27T17:20:26.797Z           0\n24   24.00000   24.00000  2020-07-27T17:20:28.808Z           0\n25   25.00000   25.00000  2020-07-27T17:20:30.819Z           0\n26   26.00000   26.00000  2020-07-27T17:20:32.827Z           0\n27   27.00000   27.00000  2020-07-27T17:20:34.836Z           0\n28   28.00000   28.00000  2020-07-27T17:20:36.847Z           0\n29   29.00000   29.00000  2020-07-27T17:20:38.858Z           0\n30   30.00000   30.00000  2020-07-27T17:20:40.868Z           0\n31   31.00000   31.00000  2020-07-27T17:20:42.879Z           0\n32   32.00000   32.00000  2020-07-27T17:20:44.888Z           0\n33   33.00000   33.00000  2020-07-27T17:20:46.900Z           0\n34   34.00000   34.00000  2020-07-27T17:20:48.912Z           0\n35   35.00000   35.00000  2020-07-27T17:20:50.921Z           0\n36   36.00000   36.00000  2020-07-27T17:20:52.930Z           1\n37   37.00000   37.00000  2020-07-27T17:20:54.941Z           1\n38   38.00000   38.00000  2020-07-27T17:20:56.952Z           7\n39   39.00000   39.00000  2020-07-27T17:20:58.964Z           0\n40   40.00000   40.00000  2020-07-27T17:21:00.975Z           0\n41   41.00000   41.00000  2020-07-27T17:21:02.981Z           0\n42   42.00000   42.00000  2020-07-27T17:21:04.988Z           0\n43   43.00000   43.00000  2020-07-27T17:21:06.997Z           0\n44   44.00000   44.00000  2020-07-27T17:21:09.005Z           0\n45   45.00000   45.00000  2020-07-27T17:21:11.012Z           0\n46   46.00000   46.00000  2020-07-27T17:21:13.020Z           0\n47   47.00000   47.00000  2020-07-27T17:21:15.031Z           0\n48   48.00000   48.00000  2020-07-27T17:21:17.043Z           0\n49   49.00000   49.00000  2020-07-27T17:21:19.054Z           0\n50   30.04349   31.23529  2020-07-27T17:21:19.054Z          30\n51   39.00000  116.00000  2020-07-27T17:21:19.054Z           0",
      "text/html": "<div>\n<style scoped>\n    .dataframe tbody tr th:only-of-type {\n        vertical-align: middle;\n    }\n\n    .dataframe tbody tr th {\n        vertical-align: top;\n    }\n\n    .dataframe thead th {\n        text-align: right;\n    }\n</style>\n<table border=\"1\" class=\"dataframe\">\n  <thead>\n    <tr style=\"text-align: right;\">\n      <th></th>\n      <th>Longitude</th>\n      <th>Latitude</th>\n      <th>Date</th>\n      <th>SafeVenues</th>\n    </tr>\n  </thead>\n  <tbody>\n    <tr>\n      <th>0</th>\n      <td>0.00000</td>\n      <td>0.00000</td>\n      <td>2020-07-27T17:19:40.551Z</td>\n      <td>0</td>\n    </tr>\n    <tr>\n      <th>1</th>\n      <td>1.00000</td>\n      <td>1.00000</td>\n      <td>2020-07-27T17:19:42.572Z</td>\n      <td>2</td>\n    </tr>\n    <tr>\n      <th>2</th>\n      <td>2.00000</td>\n      <td>2.00000</td>\n      <td>2020-07-27T17:19:44.584Z</td>\n      <td>0</td>\n    </tr>\n    <tr>\n      <th>3</th>\n      <td>3.00000</td>\n      <td>3.00000</td>\n      <td>2020-07-27T17:19:46.595Z</td>\n      <td>0</td>\n    </tr>\n    <tr>\n      <th>4</th>\n      <td>4.00000</td>\n      <td>4.00000</td>\n      <td>2020-07-27T17:19:48.604Z</td>\n      <td>0</td>\n    </tr>\n    <tr>\n      <th>5</th>\n      <td>5.00000</td>\n      <td>5.00000</td>\n      <td>2020-07-27T17:19:50.615Z</td>\n      <td>0</td>\n    </tr>\n    <tr>\n      <th>6</th>\n      <td>6.00000</td>\n      <td>6.00000</td>\n      <td>2020-07-27T17:19:52.626Z</td>\n      <td>0</td>\n    </tr>\n    <tr>\n      <th>7</th>\n      <td>7.00000</td>\n      <td>7.00000</td>\n      <td>2020-07-27T17:19:54.637Z</td>\n      <td>0</td>\n    </tr>\n    <tr>\n      <th>8</th>\n      <td>8.00000</td>\n      <td>8.00000</td>\n      <td>2020-07-27T17:19:56.647Z</td>\n      <td>0</td>\n    </tr>\n    <tr>\n      <th>9</th>\n      <td>9.00000</td>\n      <td>9.00000</td>\n      <td>2020-07-27T17:19:58.659Z</td>\n      <td>0</td>\n    </tr>\n    <tr>\n      <th>10</th>\n      <td>10.00000</td>\n      <td>10.00000</td>\n      <td>2020-07-27T17:20:00.669Z</td>\n      <td>0</td>\n    </tr>\n    <tr>\n      <th>11</th>\n      <td>11.00000</td>\n      <td>11.00000</td>\n      <td>2020-07-27T17:20:02.679Z</td>\n      <td>0</td>\n    </tr>\n    <tr>\n      <th>12</th>\n      <td>12.00000</td>\n      <td>12.00000</td>\n      <td>2020-07-27T17:20:04.690Z</td>\n      <td>0</td>\n    </tr>\n    <tr>\n      <th>13</th>\n      <td>13.00000</td>\n      <td>13.00000</td>\n      <td>2020-07-27T17:20:06.700Z</td>\n      <td>0</td>\n    </tr>\n    <tr>\n      <th>14</th>\n      <td>14.00000</td>\n      <td>14.00000</td>\n      <td>2020-07-27T17:20:08.711Z</td>\n      <td>0</td>\n    </tr>\n    <tr>\n      <th>15</th>\n      <td>15.00000</td>\n      <td>15.00000</td>\n      <td>2020-07-27T17:20:10.720Z</td>\n      <td>0</td>\n    </tr>\n    <tr>\n      <th>16</th>\n      <td>16.00000</td>\n      <td>16.00000</td>\n      <td>2020-07-27T17:20:12.730Z</td>\n      <td>0</td>\n    </tr>\n    <tr>\n      <th>17</th>\n      <td>17.00000</td>\n      <td>17.00000</td>\n      <td>2020-07-27T17:20:14.740Z</td>\n      <td>0</td>\n    </tr>\n    <tr>\n      <th>18</th>\n      <td>18.00000</td>\n      <td>18.00000</td>\n      <td>2020-07-27T17:20:16.748Z</td>\n      <td>0</td>\n    </tr>\n    <tr>\n      <th>19</th>\n      <td>19.00000</td>\n      <td>19.00000</td>\n      <td>2020-07-27T17:20:18.758Z</td>\n      <td>0</td>\n    </tr>\n    <tr>\n      <th>20</th>\n      <td>20.00000</td>\n      <td>20.00000</td>\n      <td>2020-07-27T17:20:20.768Z</td>\n      <td>0</td>\n    </tr>\n    <tr>\n      <th>21</th>\n      <td>21.00000</td>\n      <td>21.00000</td>\n      <td>2020-07-27T17:20:22.779Z</td>\n      <td>0</td>\n    </tr>\n    <tr>\n      <th>22</th>\n      <td>22.00000</td>\n      <td>22.00000</td>\n      <td>2020-07-27T17:20:24.787Z</td>\n      <td>0</td>\n    </tr>\n    <tr>\n      <th>23</th>\n      <td>23.00000</td>\n      <td>23.00000</td>\n      <td>2020-07-27T17:20:26.797Z</td>\n      <td>0</td>\n    </tr>\n    <tr>\n      <th>24</th>\n      <td>24.00000</td>\n      <td>24.00000</td>\n      <td>2020-07-27T17:20:28.808Z</td>\n      <td>0</td>\n    </tr>\n    <tr>\n      <th>25</th>\n      <td>25.00000</td>\n      <td>25.00000</td>\n      <td>2020-07-27T17:20:30.819Z</td>\n      <td>0</td>\n    </tr>\n    <tr>\n      <th>26</th>\n      <td>26.00000</td>\n      <td>26.00000</td>\n      <td>2020-07-27T17:20:32.827Z</td>\n      <td>0</td>\n    </tr>\n    <tr>\n      <th>27</th>\n      <td>27.00000</td>\n      <td>27.00000</td>\n      <td>2020-07-27T17:20:34.836Z</td>\n      <td>0</td>\n    </tr>\n    <tr>\n      <th>28</th>\n      <td>28.00000</td>\n      <td>28.00000</td>\n      <td>2020-07-27T17:20:36.847Z</td>\n      <td>0</td>\n    </tr>\n    <tr>\n      <th>29</th>\n      <td>29.00000</td>\n      <td>29.00000</td>\n      <td>2020-07-27T17:20:38.858Z</td>\n      <td>0</td>\n    </tr>\n    <tr>\n      <th>30</th>\n      <td>30.00000</td>\n      <td>30.00000</td>\n      <td>2020-07-27T17:20:40.868Z</td>\n      <td>0</td>\n    </tr>\n    <tr>\n      <th>31</th>\n      <td>31.00000</td>\n      <td>31.00000</td>\n      <td>2020-07-27T17:20:42.879Z</td>\n      <td>0</td>\n    </tr>\n    <tr>\n      <th>32</th>\n      <td>32.00000</td>\n      <td>32.00000</td>\n      <td>2020-07-27T17:20:44.888Z</td>\n      <td>0</td>\n    </tr>\n    <tr>\n      <th>33</th>\n      <td>33.00000</td>\n      <td>33.00000</td>\n      <td>2020-07-27T17:20:46.900Z</td>\n      <td>0</td>\n    </tr>\n    <tr>\n      <th>34</th>\n      <td>34.00000</td>\n      <td>34.00000</td>\n      <td>2020-07-27T17:20:48.912Z</td>\n      <td>0</td>\n    </tr>\n    <tr>\n      <th>35</th>\n      <td>35.00000</td>\n      <td>35.00000</td>\n      <td>2020-07-27T17:20:50.921Z</td>\n      <td>0</td>\n    </tr>\n    <tr>\n      <th>36</th>\n      <td>36.00000</td>\n      <td>36.00000</td>\n      <td>2020-07-27T17:20:52.930Z</td>\n      <td>1</td>\n    </tr>\n    <tr>\n      <th>37</th>\n      <td>37.00000</td>\n      <td>37.00000</td>\n      <td>2020-07-27T17:20:54.941Z</td>\n      <td>1</td>\n    </tr>\n    <tr>\n      <th>38</th>\n      <td>38.00000</td>\n      <td>38.00000</td>\n      <td>2020-07-27T17:20:56.952Z</td>\n      <td>7</td>\n    </tr>\n    <tr>\n      <th>39</th>\n      <td>39.00000</td>\n      <td>39.00000</td>\n      <td>2020-07-27T17:20:58.964Z</td>\n      <td>0</td>\n    </tr>\n    <tr>\n      <th>40</th>\n      <td>40.00000</td>\n      <td>40.00000</td>\n      <td>2020-07-27T17:21:00.975Z</td>\n      <td>0</td>\n    </tr>\n    <tr>\n      <th>41</th>\n      <td>41.00000</td>\n      <td>41.00000</td>\n      <td>2020-07-27T17:21:02.981Z</td>\n      <td>0</td>\n    </tr>\n    <tr>\n      <th>42</th>\n      <td>42.00000</td>\n      <td>42.00000</td>\n      <td>2020-07-27T17:21:04.988Z</td>\n      <td>0</td>\n    </tr>\n    <tr>\n      <th>43</th>\n      <td>43.00000</td>\n      <td>43.00000</td>\n      <td>2020-07-27T17:21:06.997Z</td>\n      <td>0</td>\n    </tr>\n    <tr>\n      <th>44</th>\n      <td>44.00000</td>\n      <td>44.00000</td>\n      <td>2020-07-27T17:21:09.005Z</td>\n      <td>0</td>\n    </tr>\n    <tr>\n      <th>45</th>\n      <td>45.00000</td>\n      <td>45.00000</td>\n      <td>2020-07-27T17:21:11.012Z</td>\n      <td>0</td>\n    </tr>\n    <tr>\n      <th>46</th>\n      <td>46.00000</td>\n      <td>46.00000</td>\n      <td>2020-07-27T17:21:13.020Z</td>\n      <td>0</td>\n    </tr>\n    <tr>\n      <th>47</th>\n      <td>47.00000</td>\n      <td>47.00000</td>\n      <td>2020-07-27T17:21:15.031Z</td>\n      <td>0</td>\n    </tr>\n    <tr>\n      <th>48</th>\n      <td>48.00000</td>\n      <td>48.00000</td>\n      <td>2020-07-27T17:21:17.043Z</td>\n      <td>0</td>\n    </tr>\n    <tr>\n      <th>49</th>\n      <td>49.00000</td>\n      <td>49.00000</td>\n      <td>2020-07-27T17:21:19.054Z</td>\n      <td>0</td>\n    </tr>\n    <tr>\n      <th>50</th>\n      <td>30.04349</td>\n      <td>31.23529</td>\n      <td>2020-07-27T17:21:19.054Z</td>\n      <td>30</td>\n    </tr>\n    <tr>\n      <th>51</th>\n      <td>39.00000</td>\n      <td>116.00000</td>\n      <td>2020-07-27T17:21:19.054Z</td>\n      <td>0</td>\n    </tr>\n  </tbody>\n</table>\n</div>"
     },
     "metadata": {},
     "execution_count": 12
    }
   ],
   "source": [
    "coords"
   ]
  },
  {
   "cell_type": "markdown",
   "metadata": {},
   "source": [
    "Normalising"
   ]
  },
  {
   "cell_type": "code",
   "execution_count": 14,
   "metadata": {},
   "outputs": [
    {
     "output_type": "execute_result",
     "data": {
      "text/plain": "    Longitude   Latitude                      Date  SafeVenues     howSafe\n0     0.00000    0.00000  2020-07-27T17:19:40.551Z           0    0.000000\n1     1.00000    1.00000  2020-07-27T17:19:42.572Z           2    6.666667\n2     2.00000    2.00000  2020-07-27T17:19:44.584Z           0    0.000000\n3     3.00000    3.00000  2020-07-27T17:19:46.595Z           0    0.000000\n4     4.00000    4.00000  2020-07-27T17:19:48.604Z           0    0.000000\n5     5.00000    5.00000  2020-07-27T17:19:50.615Z           0    0.000000\n6     6.00000    6.00000  2020-07-27T17:19:52.626Z           0    0.000000\n7     7.00000    7.00000  2020-07-27T17:19:54.637Z           0    0.000000\n8     8.00000    8.00000  2020-07-27T17:19:56.647Z           0    0.000000\n9     9.00000    9.00000  2020-07-27T17:19:58.659Z           0    0.000000\n10   10.00000   10.00000  2020-07-27T17:20:00.669Z           0    0.000000\n11   11.00000   11.00000  2020-07-27T17:20:02.679Z           0    0.000000\n12   12.00000   12.00000  2020-07-27T17:20:04.690Z           0    0.000000\n13   13.00000   13.00000  2020-07-27T17:20:06.700Z           0    0.000000\n14   14.00000   14.00000  2020-07-27T17:20:08.711Z           0    0.000000\n15   15.00000   15.00000  2020-07-27T17:20:10.720Z           0    0.000000\n16   16.00000   16.00000  2020-07-27T17:20:12.730Z           0    0.000000\n17   17.00000   17.00000  2020-07-27T17:20:14.740Z           0    0.000000\n18   18.00000   18.00000  2020-07-27T17:20:16.748Z           0    0.000000\n19   19.00000   19.00000  2020-07-27T17:20:18.758Z           0    0.000000\n20   20.00000   20.00000  2020-07-27T17:20:20.768Z           0    0.000000\n21   21.00000   21.00000  2020-07-27T17:20:22.779Z           0    0.000000\n22   22.00000   22.00000  2020-07-27T17:20:24.787Z           0    0.000000\n23   23.00000   23.00000  2020-07-27T17:20:26.797Z           0    0.000000\n24   24.00000   24.00000  2020-07-27T17:20:28.808Z           0    0.000000\n25   25.00000   25.00000  2020-07-27T17:20:30.819Z           0    0.000000\n26   26.00000   26.00000  2020-07-27T17:20:32.827Z           0    0.000000\n27   27.00000   27.00000  2020-07-27T17:20:34.836Z           0    0.000000\n28   28.00000   28.00000  2020-07-27T17:20:36.847Z           0    0.000000\n29   29.00000   29.00000  2020-07-27T17:20:38.858Z           0    0.000000\n30   30.00000   30.00000  2020-07-27T17:20:40.868Z           0    0.000000\n31   31.00000   31.00000  2020-07-27T17:20:42.879Z           0    0.000000\n32   32.00000   32.00000  2020-07-27T17:20:44.888Z           0    0.000000\n33   33.00000   33.00000  2020-07-27T17:20:46.900Z           0    0.000000\n34   34.00000   34.00000  2020-07-27T17:20:48.912Z           0    0.000000\n35   35.00000   35.00000  2020-07-27T17:20:50.921Z           0    0.000000\n36   36.00000   36.00000  2020-07-27T17:20:52.930Z           1    3.333333\n37   37.00000   37.00000  2020-07-27T17:20:54.941Z           1    3.333333\n38   38.00000   38.00000  2020-07-27T17:20:56.952Z           7   23.333333\n39   39.00000   39.00000  2020-07-27T17:20:58.964Z           0    0.000000\n40   40.00000   40.00000  2020-07-27T17:21:00.975Z           0    0.000000\n41   41.00000   41.00000  2020-07-27T17:21:02.981Z           0    0.000000\n42   42.00000   42.00000  2020-07-27T17:21:04.988Z           0    0.000000\n43   43.00000   43.00000  2020-07-27T17:21:06.997Z           0    0.000000\n44   44.00000   44.00000  2020-07-27T17:21:09.005Z           0    0.000000\n45   45.00000   45.00000  2020-07-27T17:21:11.012Z           0    0.000000\n46   46.00000   46.00000  2020-07-27T17:21:13.020Z           0    0.000000\n47   47.00000   47.00000  2020-07-27T17:21:15.031Z           0    0.000000\n48   48.00000   48.00000  2020-07-27T17:21:17.043Z           0    0.000000\n49   49.00000   49.00000  2020-07-27T17:21:19.054Z           0    0.000000\n50   30.04349   31.23529  2020-07-27T17:21:19.054Z          30  100.000000\n51   39.00000  116.00000  2020-07-27T17:21:19.054Z           0    0.000000",
      "text/html": "<div>\n<style scoped>\n    .dataframe tbody tr th:only-of-type {\n        vertical-align: middle;\n    }\n\n    .dataframe tbody tr th {\n        vertical-align: top;\n    }\n\n    .dataframe thead th {\n        text-align: right;\n    }\n</style>\n<table border=\"1\" class=\"dataframe\">\n  <thead>\n    <tr style=\"text-align: right;\">\n      <th></th>\n      <th>Longitude</th>\n      <th>Latitude</th>\n      <th>Date</th>\n      <th>SafeVenues</th>\n      <th>howSafe</th>\n    </tr>\n  </thead>\n  <tbody>\n    <tr>\n      <th>0</th>\n      <td>0.00000</td>\n      <td>0.00000</td>\n      <td>2020-07-27T17:19:40.551Z</td>\n      <td>0</td>\n      <td>0.000000</td>\n    </tr>\n    <tr>\n      <th>1</th>\n      <td>1.00000</td>\n      <td>1.00000</td>\n      <td>2020-07-27T17:19:42.572Z</td>\n      <td>2</td>\n      <td>6.666667</td>\n    </tr>\n    <tr>\n      <th>2</th>\n      <td>2.00000</td>\n      <td>2.00000</td>\n      <td>2020-07-27T17:19:44.584Z</td>\n      <td>0</td>\n      <td>0.000000</td>\n    </tr>\n    <tr>\n      <th>3</th>\n      <td>3.00000</td>\n      <td>3.00000</td>\n      <td>2020-07-27T17:19:46.595Z</td>\n      <td>0</td>\n      <td>0.000000</td>\n    </tr>\n    <tr>\n      <th>4</th>\n      <td>4.00000</td>\n      <td>4.00000</td>\n      <td>2020-07-27T17:19:48.604Z</td>\n      <td>0</td>\n      <td>0.000000</td>\n    </tr>\n    <tr>\n      <th>5</th>\n      <td>5.00000</td>\n      <td>5.00000</td>\n      <td>2020-07-27T17:19:50.615Z</td>\n      <td>0</td>\n      <td>0.000000</td>\n    </tr>\n    <tr>\n      <th>6</th>\n      <td>6.00000</td>\n      <td>6.00000</td>\n      <td>2020-07-27T17:19:52.626Z</td>\n      <td>0</td>\n      <td>0.000000</td>\n    </tr>\n    <tr>\n      <th>7</th>\n      <td>7.00000</td>\n      <td>7.00000</td>\n      <td>2020-07-27T17:19:54.637Z</td>\n      <td>0</td>\n      <td>0.000000</td>\n    </tr>\n    <tr>\n      <th>8</th>\n      <td>8.00000</td>\n      <td>8.00000</td>\n      <td>2020-07-27T17:19:56.647Z</td>\n      <td>0</td>\n      <td>0.000000</td>\n    </tr>\n    <tr>\n      <th>9</th>\n      <td>9.00000</td>\n      <td>9.00000</td>\n      <td>2020-07-27T17:19:58.659Z</td>\n      <td>0</td>\n      <td>0.000000</td>\n    </tr>\n    <tr>\n      <th>10</th>\n      <td>10.00000</td>\n      <td>10.00000</td>\n      <td>2020-07-27T17:20:00.669Z</td>\n      <td>0</td>\n      <td>0.000000</td>\n    </tr>\n    <tr>\n      <th>11</th>\n      <td>11.00000</td>\n      <td>11.00000</td>\n      <td>2020-07-27T17:20:02.679Z</td>\n      <td>0</td>\n      <td>0.000000</td>\n    </tr>\n    <tr>\n      <th>12</th>\n      <td>12.00000</td>\n      <td>12.00000</td>\n      <td>2020-07-27T17:20:04.690Z</td>\n      <td>0</td>\n      <td>0.000000</td>\n    </tr>\n    <tr>\n      <th>13</th>\n      <td>13.00000</td>\n      <td>13.00000</td>\n      <td>2020-07-27T17:20:06.700Z</td>\n      <td>0</td>\n      <td>0.000000</td>\n    </tr>\n    <tr>\n      <th>14</th>\n      <td>14.00000</td>\n      <td>14.00000</td>\n      <td>2020-07-27T17:20:08.711Z</td>\n      <td>0</td>\n      <td>0.000000</td>\n    </tr>\n    <tr>\n      <th>15</th>\n      <td>15.00000</td>\n      <td>15.00000</td>\n      <td>2020-07-27T17:20:10.720Z</td>\n      <td>0</td>\n      <td>0.000000</td>\n    </tr>\n    <tr>\n      <th>16</th>\n      <td>16.00000</td>\n      <td>16.00000</td>\n      <td>2020-07-27T17:20:12.730Z</td>\n      <td>0</td>\n      <td>0.000000</td>\n    </tr>\n    <tr>\n      <th>17</th>\n      <td>17.00000</td>\n      <td>17.00000</td>\n      <td>2020-07-27T17:20:14.740Z</td>\n      <td>0</td>\n      <td>0.000000</td>\n    </tr>\n    <tr>\n      <th>18</th>\n      <td>18.00000</td>\n      <td>18.00000</td>\n      <td>2020-07-27T17:20:16.748Z</td>\n      <td>0</td>\n      <td>0.000000</td>\n    </tr>\n    <tr>\n      <th>19</th>\n      <td>19.00000</td>\n      <td>19.00000</td>\n      <td>2020-07-27T17:20:18.758Z</td>\n      <td>0</td>\n      <td>0.000000</td>\n    </tr>\n    <tr>\n      <th>20</th>\n      <td>20.00000</td>\n      <td>20.00000</td>\n      <td>2020-07-27T17:20:20.768Z</td>\n      <td>0</td>\n      <td>0.000000</td>\n    </tr>\n    <tr>\n      <th>21</th>\n      <td>21.00000</td>\n      <td>21.00000</td>\n      <td>2020-07-27T17:20:22.779Z</td>\n      <td>0</td>\n      <td>0.000000</td>\n    </tr>\n    <tr>\n      <th>22</th>\n      <td>22.00000</td>\n      <td>22.00000</td>\n      <td>2020-07-27T17:20:24.787Z</td>\n      <td>0</td>\n      <td>0.000000</td>\n    </tr>\n    <tr>\n      <th>23</th>\n      <td>23.00000</td>\n      <td>23.00000</td>\n      <td>2020-07-27T17:20:26.797Z</td>\n      <td>0</td>\n      <td>0.000000</td>\n    </tr>\n    <tr>\n      <th>24</th>\n      <td>24.00000</td>\n      <td>24.00000</td>\n      <td>2020-07-27T17:20:28.808Z</td>\n      <td>0</td>\n      <td>0.000000</td>\n    </tr>\n    <tr>\n      <th>25</th>\n      <td>25.00000</td>\n      <td>25.00000</td>\n      <td>2020-07-27T17:20:30.819Z</td>\n      <td>0</td>\n      <td>0.000000</td>\n    </tr>\n    <tr>\n      <th>26</th>\n      <td>26.00000</td>\n      <td>26.00000</td>\n      <td>2020-07-27T17:20:32.827Z</td>\n      <td>0</td>\n      <td>0.000000</td>\n    </tr>\n    <tr>\n      <th>27</th>\n      <td>27.00000</td>\n      <td>27.00000</td>\n      <td>2020-07-27T17:20:34.836Z</td>\n      <td>0</td>\n      <td>0.000000</td>\n    </tr>\n    <tr>\n      <th>28</th>\n      <td>28.00000</td>\n      <td>28.00000</td>\n      <td>2020-07-27T17:20:36.847Z</td>\n      <td>0</td>\n      <td>0.000000</td>\n    </tr>\n    <tr>\n      <th>29</th>\n      <td>29.00000</td>\n      <td>29.00000</td>\n      <td>2020-07-27T17:20:38.858Z</td>\n      <td>0</td>\n      <td>0.000000</td>\n    </tr>\n    <tr>\n      <th>30</th>\n      <td>30.00000</td>\n      <td>30.00000</td>\n      <td>2020-07-27T17:20:40.868Z</td>\n      <td>0</td>\n      <td>0.000000</td>\n    </tr>\n    <tr>\n      <th>31</th>\n      <td>31.00000</td>\n      <td>31.00000</td>\n      <td>2020-07-27T17:20:42.879Z</td>\n      <td>0</td>\n      <td>0.000000</td>\n    </tr>\n    <tr>\n      <th>32</th>\n      <td>32.00000</td>\n      <td>32.00000</td>\n      <td>2020-07-27T17:20:44.888Z</td>\n      <td>0</td>\n      <td>0.000000</td>\n    </tr>\n    <tr>\n      <th>33</th>\n      <td>33.00000</td>\n      <td>33.00000</td>\n      <td>2020-07-27T17:20:46.900Z</td>\n      <td>0</td>\n      <td>0.000000</td>\n    </tr>\n    <tr>\n      <th>34</th>\n      <td>34.00000</td>\n      <td>34.00000</td>\n      <td>2020-07-27T17:20:48.912Z</td>\n      <td>0</td>\n      <td>0.000000</td>\n    </tr>\n    <tr>\n      <th>35</th>\n      <td>35.00000</td>\n      <td>35.00000</td>\n      <td>2020-07-27T17:20:50.921Z</td>\n      <td>0</td>\n      <td>0.000000</td>\n    </tr>\n    <tr>\n      <th>36</th>\n      <td>36.00000</td>\n      <td>36.00000</td>\n      <td>2020-07-27T17:20:52.930Z</td>\n      <td>1</td>\n      <td>3.333333</td>\n    </tr>\n    <tr>\n      <th>37</th>\n      <td>37.00000</td>\n      <td>37.00000</td>\n      <td>2020-07-27T17:20:54.941Z</td>\n      <td>1</td>\n      <td>3.333333</td>\n    </tr>\n    <tr>\n      <th>38</th>\n      <td>38.00000</td>\n      <td>38.00000</td>\n      <td>2020-07-27T17:20:56.952Z</td>\n      <td>7</td>\n      <td>23.333333</td>\n    </tr>\n    <tr>\n      <th>39</th>\n      <td>39.00000</td>\n      <td>39.00000</td>\n      <td>2020-07-27T17:20:58.964Z</td>\n      <td>0</td>\n      <td>0.000000</td>\n    </tr>\n    <tr>\n      <th>40</th>\n      <td>40.00000</td>\n      <td>40.00000</td>\n      <td>2020-07-27T17:21:00.975Z</td>\n      <td>0</td>\n      <td>0.000000</td>\n    </tr>\n    <tr>\n      <th>41</th>\n      <td>41.00000</td>\n      <td>41.00000</td>\n      <td>2020-07-27T17:21:02.981Z</td>\n      <td>0</td>\n      <td>0.000000</td>\n    </tr>\n    <tr>\n      <th>42</th>\n      <td>42.00000</td>\n      <td>42.00000</td>\n      <td>2020-07-27T17:21:04.988Z</td>\n      <td>0</td>\n      <td>0.000000</td>\n    </tr>\n    <tr>\n      <th>43</th>\n      <td>43.00000</td>\n      <td>43.00000</td>\n      <td>2020-07-27T17:21:06.997Z</td>\n      <td>0</td>\n      <td>0.000000</td>\n    </tr>\n    <tr>\n      <th>44</th>\n      <td>44.00000</td>\n      <td>44.00000</td>\n      <td>2020-07-27T17:21:09.005Z</td>\n      <td>0</td>\n      <td>0.000000</td>\n    </tr>\n    <tr>\n      <th>45</th>\n      <td>45.00000</td>\n      <td>45.00000</td>\n      <td>2020-07-27T17:21:11.012Z</td>\n      <td>0</td>\n      <td>0.000000</td>\n    </tr>\n    <tr>\n      <th>46</th>\n      <td>46.00000</td>\n      <td>46.00000</td>\n      <td>2020-07-27T17:21:13.020Z</td>\n      <td>0</td>\n      <td>0.000000</td>\n    </tr>\n    <tr>\n      <th>47</th>\n      <td>47.00000</td>\n      <td>47.00000</td>\n      <td>2020-07-27T17:21:15.031Z</td>\n      <td>0</td>\n      <td>0.000000</td>\n    </tr>\n    <tr>\n      <th>48</th>\n      <td>48.00000</td>\n      <td>48.00000</td>\n      <td>2020-07-27T17:21:17.043Z</td>\n      <td>0</td>\n      <td>0.000000</td>\n    </tr>\n    <tr>\n      <th>49</th>\n      <td>49.00000</td>\n      <td>49.00000</td>\n      <td>2020-07-27T17:21:19.054Z</td>\n      <td>0</td>\n      <td>0.000000</td>\n    </tr>\n    <tr>\n      <th>50</th>\n      <td>30.04349</td>\n      <td>31.23529</td>\n      <td>2020-07-27T17:21:19.054Z</td>\n      <td>30</td>\n      <td>100.000000</td>\n    </tr>\n    <tr>\n      <th>51</th>\n      <td>39.00000</td>\n      <td>116.00000</td>\n      <td>2020-07-27T17:21:19.054Z</td>\n      <td>0</td>\n      <td>0.000000</td>\n    </tr>\n  </tbody>\n</table>\n</div>"
     },
     "metadata": {},
     "execution_count": 14
    }
   ],
   "source": [
    "coords['howSafe'] = (coords['SafeVenues']/coords['SafeVenues'].max())*100\n",
    "coords"
   ]
  },
  {
   "cell_type": "code",
   "execution_count": null,
   "metadata": {},
   "outputs": [],
   "source": []
  }
 ]
}